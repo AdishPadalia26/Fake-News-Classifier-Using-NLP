{
 "cells": [
  {
   "cell_type": "code",
   "execution_count": 1,
   "id": "7a46d569",
   "metadata": {
    "execution": {
     "iopub.execute_input": "2024-01-24T18:52:51.041732Z",
     "iopub.status.busy": "2024-01-24T18:52:51.041119Z",
     "iopub.status.idle": "2024-01-24T18:52:51.348244Z",
     "shell.execute_reply": "2024-01-24T18:52:51.347000Z"
    },
    "papermill": {
     "duration": 0.321477,
     "end_time": "2024-01-24T18:52:51.350704",
     "exception": false,
     "start_time": "2024-01-24T18:52:51.029227",
     "status": "completed"
    },
    "tags": []
   },
   "outputs": [
    {
     "name": "stdout",
     "output_type": "stream",
     "text": [
      "/kaggle/input/fake-news/submit.csv\n",
      "/kaggle/input/fake-news/train.csv\n",
      "/kaggle/input/fake-news/test.csv\n"
     ]
    }
   ],
   "source": [
    "# This Python 3 environment comes with many helpful analytics libraries installed\n",
    "# It is defined by the kaggle/python Docker image: https://github.com/kaggle/docker-python\n",
    "# For example, here's several helpful packages to load\n",
    "\n",
    "import numpy as np # linear algebra\n",
    "import pandas as pd # data processing, CSV file I/O (e.g. pd.read_csv)\n",
    "\n",
    "# Input data files are available in the read-only \"../input/\" directory\n",
    "# For example, running this (by clicking run or pressing Shift+Enter) will list all files under the input directory\n",
    "\n",
    "import os\n",
    "for dirname, _, filenames in os.walk('/kaggle/input'):\n",
    "    for filename in filenames:\n",
    "        print(os.path.join(dirname, filename))\n",
    "\n",
    "# You can write up to 20GB to the current directory (/kaggle/working/) that gets preserved as output when you create a version using \"Save & Run All\" \n",
    "# You can also write temporary files to /kaggle/temp/, but they won't be saved outside of the current session"
   ]
  },
  {
   "cell_type": "code",
   "execution_count": 2,
   "id": "ee5312c9",
   "metadata": {
    "execution": {
     "iopub.execute_input": "2024-01-24T18:52:51.373397Z",
     "iopub.status.busy": "2024-01-24T18:52:51.372942Z",
     "iopub.status.idle": "2024-01-24T18:52:52.910493Z",
     "shell.execute_reply": "2024-01-24T18:52:52.909099Z"
    },
    "papermill": {
     "duration": 1.550689,
     "end_time": "2024-01-24T18:52:52.912721",
     "exception": false,
     "start_time": "2024-01-24T18:52:51.362032",
     "status": "completed"
    },
    "tags": []
   },
   "outputs": [],
   "source": [
    "import re # regular expressions (pattern matching and searching)\n",
    "\n",
    "# nltk : Natural Language Toolkit\n",
    "from nltk.corpus import stopwords\n",
    "from nltk.stem.porter import PorterStemmer # for stemming (gives root word)\n",
    "# TF-IDF (Term Frequency-Inverse Document Frequency) \n",
    "from sklearn.feature_extraction.text import TfidfVectorizer # convert text to numerical feature vector\n",
    "\n",
    "from sklearn.svm import SVC # Support Vector Classifier (SVC) "
   ]
  },
  {
   "cell_type": "code",
   "execution_count": 3,
   "id": "ad5edef2",
   "metadata": {
    "execution": {
     "iopub.execute_input": "2024-01-24T18:52:52.932746Z",
     "iopub.status.busy": "2024-01-24T18:52:52.931601Z",
     "iopub.status.idle": "2024-01-24T18:52:52.936261Z",
     "shell.execute_reply": "2024-01-24T18:52:52.935384Z"
    },
    "papermill": {
     "duration": 0.015972,
     "end_time": "2024-01-24T18:52:52.937836",
     "exception": false,
     "start_time": "2024-01-24T18:52:52.921864",
     "status": "completed"
    },
    "scrolled": true,
    "tags": []
   },
   "outputs": [],
   "source": [
    "# import nltk\n",
    "# nltk.download('stopwords') # downloading all the stopwords if not already present"
   ]
  },
  {
   "cell_type": "code",
   "execution_count": 4,
   "id": "7cdcd783",
   "metadata": {
    "execution": {
     "iopub.execute_input": "2024-01-24T18:52:52.957643Z",
     "iopub.status.busy": "2024-01-24T18:52:52.957320Z",
     "iopub.status.idle": "2024-01-24T18:52:52.966566Z",
     "shell.execute_reply": "2024-01-24T18:52:52.965976Z"
    },
    "papermill": {
     "duration": 0.022301,
     "end_time": "2024-01-24T18:52:52.968696",
     "exception": false,
     "start_time": "2024-01-24T18:52:52.946395",
     "status": "completed"
    },
    "tags": []
   },
   "outputs": [
    {
     "name": "stdout",
     "output_type": "stream",
     "text": [
      "['i', 'me', 'my', 'myself', 'we', 'our', 'ours', 'ourselves', 'you', \"you're\", \"you've\", \"you'll\", \"you'd\", 'your', 'yours', 'yourself', 'yourselves', 'he', 'him', 'his', 'himself', 'she', \"she's\", 'her', 'hers', 'herself', 'it', \"it's\", 'its', 'itself', 'they', 'them', 'their', 'theirs', 'themselves', 'what', 'which', 'who', 'whom', 'this', 'that', \"that'll\", 'these', 'those', 'am', 'is', 'are', 'was', 'were', 'be', 'been', 'being', 'have', 'has', 'had', 'having', 'do', 'does', 'did', 'doing', 'a', 'an', 'the', 'and', 'but', 'if', 'or', 'because', 'as', 'until', 'while', 'of', 'at', 'by', 'for', 'with', 'about', 'against', 'between', 'into', 'through', 'during', 'before', 'after', 'above', 'below', 'to', 'from', 'up', 'down', 'in', 'out', 'on', 'off', 'over', 'under', 'again', 'further', 'then', 'once', 'here', 'there', 'when', 'where', 'why', 'how', 'all', 'any', 'both', 'each', 'few', 'more', 'most', 'other', 'some', 'such', 'no', 'nor', 'not', 'only', 'own', 'same', 'so', 'than', 'too', 'very', 's', 't', 'can', 'will', 'just', 'don', \"don't\", 'should', \"should've\", 'now', 'd', 'll', 'm', 'o', 're', 've', 'y', 'ain', 'aren', \"aren't\", 'couldn', \"couldn't\", 'didn', \"didn't\", 'doesn', \"doesn't\", 'hadn', \"hadn't\", 'hasn', \"hasn't\", 'haven', \"haven't\", 'isn', \"isn't\", 'ma', 'mightn', \"mightn't\", 'mustn', \"mustn't\", 'needn', \"needn't\", 'shan', \"shan't\", 'shouldn', \"shouldn't\", 'wasn', \"wasn't\", 'weren', \"weren't\", 'won', \"won't\", 'wouldn', \"wouldn't\"]\n"
     ]
    }
   ],
   "source": [
    "print(stopwords.words('english')) # words that dosen't add much value to data set"
   ]
  },
  {
   "cell_type": "markdown",
   "id": "4d329e14",
   "metadata": {
    "papermill": {
     "duration": 0.010235,
     "end_time": "2024-01-24T18:52:52.988405",
     "exception": false,
     "start_time": "2024-01-24T18:52:52.978170",
     "status": "completed"
    },
    "tags": []
   },
   "source": [
    "# Data Pre-processing"
   ]
  },
  {
   "cell_type": "markdown",
   "id": "fe3e1434",
   "metadata": {
    "papermill": {
     "duration": 0.009334,
     "end_time": "2024-01-24T18:52:53.006964",
     "exception": false,
     "start_time": "2024-01-24T18:52:52.997630",
     "status": "completed"
    },
    "tags": []
   },
   "source": [
    "loading the Data Set"
   ]
  },
  {
   "cell_type": "code",
   "execution_count": 5,
   "id": "08f532e5",
   "metadata": {
    "execution": {
     "iopub.execute_input": "2024-01-24T18:52:53.028615Z",
     "iopub.status.busy": "2024-01-24T18:52:53.027710Z",
     "iopub.status.idle": "2024-01-24T18:52:55.646499Z",
     "shell.execute_reply": "2024-01-24T18:52:55.645688Z"
    },
    "papermill": {
     "duration": 2.631446,
     "end_time": "2024-01-24T18:52:55.648665",
     "exception": false,
     "start_time": "2024-01-24T18:52:53.017219",
     "status": "completed"
    },
    "tags": []
   },
   "outputs": [],
   "source": [
    "train = pd.read_csv('/kaggle/input/fake-news/train.csv')\n",
    "test = pd.read_csv('/kaggle/input/fake-news/test.csv')"
   ]
  },
  {
   "cell_type": "code",
   "execution_count": 6,
   "id": "762b5e09",
   "metadata": {
    "execution": {
     "iopub.execute_input": "2024-01-24T18:52:55.667696Z",
     "iopub.status.busy": "2024-01-24T18:52:55.667385Z",
     "iopub.status.idle": "2024-01-24T18:52:55.673731Z",
     "shell.execute_reply": "2024-01-24T18:52:55.672844Z"
    },
    "papermill": {
     "duration": 0.01816,
     "end_time": "2024-01-24T18:52:55.675911",
     "exception": false,
     "start_time": "2024-01-24T18:52:55.657751",
     "status": "completed"
    },
    "tags": []
   },
   "outputs": [
    {
     "data": {
      "text/plain": [
       "(20800, 5)"
      ]
     },
     "execution_count": 6,
     "metadata": {},
     "output_type": "execute_result"
    }
   ],
   "source": [
    "train.shape # number of rows and cloumns"
   ]
  },
  {
   "cell_type": "code",
   "execution_count": 7,
   "id": "7ced8289",
   "metadata": {
    "execution": {
     "iopub.execute_input": "2024-01-24T18:52:55.695074Z",
     "iopub.status.busy": "2024-01-24T18:52:55.694717Z",
     "iopub.status.idle": "2024-01-24T18:52:55.701221Z",
     "shell.execute_reply": "2024-01-24T18:52:55.700369Z"
    },
    "papermill": {
     "duration": 0.017992,
     "end_time": "2024-01-24T18:52:55.702775",
     "exception": false,
     "start_time": "2024-01-24T18:52:55.684783",
     "status": "completed"
    },
    "tags": []
   },
   "outputs": [
    {
     "data": {
      "text/plain": [
       "(5200, 4)"
      ]
     },
     "execution_count": 7,
     "metadata": {},
     "output_type": "execute_result"
    }
   ],
   "source": [
    "test.shape"
   ]
  },
  {
   "cell_type": "code",
   "execution_count": 8,
   "id": "959a4ef4",
   "metadata": {
    "execution": {
     "iopub.execute_input": "2024-01-24T18:52:55.722210Z",
     "iopub.status.busy": "2024-01-24T18:52:55.721862Z",
     "iopub.status.idle": "2024-01-24T18:52:55.740135Z",
     "shell.execute_reply": "2024-01-24T18:52:55.739403Z"
    },
    "papermill": {
     "duration": 0.029819,
     "end_time": "2024-01-24T18:52:55.741664",
     "exception": false,
     "start_time": "2024-01-24T18:52:55.711845",
     "status": "completed"
    },
    "scrolled": true,
    "tags": []
   },
   "outputs": [
    {
     "data": {
      "text/html": [
       "<div>\n",
       "<style scoped>\n",
       "    .dataframe tbody tr th:only-of-type {\n",
       "        vertical-align: middle;\n",
       "    }\n",
       "\n",
       "    .dataframe tbody tr th {\n",
       "        vertical-align: top;\n",
       "    }\n",
       "\n",
       "    .dataframe thead th {\n",
       "        text-align: right;\n",
       "    }\n",
       "</style>\n",
       "<table border=\"1\" class=\"dataframe\">\n",
       "  <thead>\n",
       "    <tr style=\"text-align: right;\">\n",
       "      <th></th>\n",
       "      <th>id</th>\n",
       "      <th>title</th>\n",
       "      <th>author</th>\n",
       "      <th>text</th>\n",
       "      <th>label</th>\n",
       "    </tr>\n",
       "  </thead>\n",
       "  <tbody>\n",
       "    <tr>\n",
       "      <th>0</th>\n",
       "      <td>0</td>\n",
       "      <td>House Dem Aide: We Didn’t Even See Comey’s Let...</td>\n",
       "      <td>Darrell Lucus</td>\n",
       "      <td>House Dem Aide: We Didn’t Even See Comey’s Let...</td>\n",
       "      <td>1</td>\n",
       "    </tr>\n",
       "    <tr>\n",
       "      <th>1</th>\n",
       "      <td>1</td>\n",
       "      <td>FLYNN: Hillary Clinton, Big Woman on Campus - ...</td>\n",
       "      <td>Daniel J. Flynn</td>\n",
       "      <td>Ever get the feeling your life circles the rou...</td>\n",
       "      <td>0</td>\n",
       "    </tr>\n",
       "    <tr>\n",
       "      <th>2</th>\n",
       "      <td>2</td>\n",
       "      <td>Why the Truth Might Get You Fired</td>\n",
       "      <td>Consortiumnews.com</td>\n",
       "      <td>Why the Truth Might Get You Fired October 29, ...</td>\n",
       "      <td>1</td>\n",
       "    </tr>\n",
       "    <tr>\n",
       "      <th>3</th>\n",
       "      <td>3</td>\n",
       "      <td>15 Civilians Killed In Single US Airstrike Hav...</td>\n",
       "      <td>Jessica Purkiss</td>\n",
       "      <td>Videos 15 Civilians Killed In Single US Airstr...</td>\n",
       "      <td>1</td>\n",
       "    </tr>\n",
       "    <tr>\n",
       "      <th>4</th>\n",
       "      <td>4</td>\n",
       "      <td>Iranian woman jailed for fictional unpublished...</td>\n",
       "      <td>Howard Portnoy</td>\n",
       "      <td>Print \\nAn Iranian woman has been sentenced to...</td>\n",
       "      <td>1</td>\n",
       "    </tr>\n",
       "  </tbody>\n",
       "</table>\n",
       "</div>"
      ],
      "text/plain": [
       "   id                                              title              author  \\\n",
       "0   0  House Dem Aide: We Didn’t Even See Comey’s Let...       Darrell Lucus   \n",
       "1   1  FLYNN: Hillary Clinton, Big Woman on Campus - ...     Daniel J. Flynn   \n",
       "2   2                  Why the Truth Might Get You Fired  Consortiumnews.com   \n",
       "3   3  15 Civilians Killed In Single US Airstrike Hav...     Jessica Purkiss   \n",
       "4   4  Iranian woman jailed for fictional unpublished...      Howard Portnoy   \n",
       "\n",
       "                                                text  label  \n",
       "0  House Dem Aide: We Didn’t Even See Comey’s Let...      1  \n",
       "1  Ever get the feeling your life circles the rou...      0  \n",
       "2  Why the Truth Might Get You Fired October 29, ...      1  \n",
       "3  Videos 15 Civilians Killed In Single US Airstr...      1  \n",
       "4  Print \\nAn Iranian woman has been sentenced to...      1  "
      ]
     },
     "execution_count": 8,
     "metadata": {},
     "output_type": "execute_result"
    }
   ],
   "source": [
    "train.head()"
   ]
  },
  {
   "cell_type": "code",
   "execution_count": 9,
   "id": "0f598d0a",
   "metadata": {
    "execution": {
     "iopub.execute_input": "2024-01-24T18:52:55.761883Z",
     "iopub.status.busy": "2024-01-24T18:52:55.761565Z",
     "iopub.status.idle": "2024-01-24T18:52:55.770910Z",
     "shell.execute_reply": "2024-01-24T18:52:55.770043Z"
    },
    "papermill": {
     "duration": 0.021553,
     "end_time": "2024-01-24T18:52:55.772755",
     "exception": false,
     "start_time": "2024-01-24T18:52:55.751202",
     "status": "completed"
    },
    "tags": []
   },
   "outputs": [
    {
     "data": {
      "text/html": [
       "<div>\n",
       "<style scoped>\n",
       "    .dataframe tbody tr th:only-of-type {\n",
       "        vertical-align: middle;\n",
       "    }\n",
       "\n",
       "    .dataframe tbody tr th {\n",
       "        vertical-align: top;\n",
       "    }\n",
       "\n",
       "    .dataframe thead th {\n",
       "        text-align: right;\n",
       "    }\n",
       "</style>\n",
       "<table border=\"1\" class=\"dataframe\">\n",
       "  <thead>\n",
       "    <tr style=\"text-align: right;\">\n",
       "      <th></th>\n",
       "      <th>id</th>\n",
       "      <th>title</th>\n",
       "      <th>author</th>\n",
       "      <th>text</th>\n",
       "    </tr>\n",
       "  </thead>\n",
       "  <tbody>\n",
       "    <tr>\n",
       "      <th>0</th>\n",
       "      <td>20800</td>\n",
       "      <td>Specter of Trump Loosens Tongues, if Not Purse...</td>\n",
       "      <td>David Streitfeld</td>\n",
       "      <td>PALO ALTO, Calif.  —   After years of scorning...</td>\n",
       "    </tr>\n",
       "    <tr>\n",
       "      <th>1</th>\n",
       "      <td>20801</td>\n",
       "      <td>Russian warships ready to strike terrorists ne...</td>\n",
       "      <td>NaN</td>\n",
       "      <td>Russian warships ready to strike terrorists ne...</td>\n",
       "    </tr>\n",
       "    <tr>\n",
       "      <th>2</th>\n",
       "      <td>20802</td>\n",
       "      <td>#NoDAPL: Native American Leaders Vow to Stay A...</td>\n",
       "      <td>Common Dreams</td>\n",
       "      <td>Videos #NoDAPL: Native American Leaders Vow to...</td>\n",
       "    </tr>\n",
       "    <tr>\n",
       "      <th>3</th>\n",
       "      <td>20803</td>\n",
       "      <td>Tim Tebow Will Attempt Another Comeback, This ...</td>\n",
       "      <td>Daniel Victor</td>\n",
       "      <td>If at first you don’t succeed, try a different...</td>\n",
       "    </tr>\n",
       "    <tr>\n",
       "      <th>4</th>\n",
       "      <td>20804</td>\n",
       "      <td>Keiser Report: Meme Wars (E995)</td>\n",
       "      <td>Truth Broadcast Network</td>\n",
       "      <td>42 mins ago 1 Views 0 Comments 0 Likes 'For th...</td>\n",
       "    </tr>\n",
       "  </tbody>\n",
       "</table>\n",
       "</div>"
      ],
      "text/plain": [
       "      id                                              title  \\\n",
       "0  20800  Specter of Trump Loosens Tongues, if Not Purse...   \n",
       "1  20801  Russian warships ready to strike terrorists ne...   \n",
       "2  20802  #NoDAPL: Native American Leaders Vow to Stay A...   \n",
       "3  20803  Tim Tebow Will Attempt Another Comeback, This ...   \n",
       "4  20804                    Keiser Report: Meme Wars (E995)   \n",
       "\n",
       "                    author                                               text  \n",
       "0         David Streitfeld  PALO ALTO, Calif.  —   After years of scorning...  \n",
       "1                      NaN  Russian warships ready to strike terrorists ne...  \n",
       "2            Common Dreams  Videos #NoDAPL: Native American Leaders Vow to...  \n",
       "3            Daniel Victor  If at first you don’t succeed, try a different...  \n",
       "4  Truth Broadcast Network  42 mins ago 1 Views 0 Comments 0 Likes 'For th...  "
      ]
     },
     "execution_count": 9,
     "metadata": {},
     "output_type": "execute_result"
    }
   ],
   "source": [
    "test.head()"
   ]
  },
  {
   "cell_type": "code",
   "execution_count": 10,
   "id": "4417ab9f",
   "metadata": {
    "execution": {
     "iopub.execute_input": "2024-01-24T18:52:55.843085Z",
     "iopub.status.busy": "2024-01-24T18:52:55.842749Z",
     "iopub.status.idle": "2024-01-24T18:52:55.855957Z",
     "shell.execute_reply": "2024-01-24T18:52:55.854875Z"
    },
    "papermill": {
     "duration": 0.026165,
     "end_time": "2024-01-24T18:52:55.857913",
     "exception": false,
     "start_time": "2024-01-24T18:52:55.831748",
     "status": "completed"
    },
    "tags": []
   },
   "outputs": [
    {
     "data": {
      "text/plain": [
       "id           0\n",
       "title      558\n",
       "author    1957\n",
       "text        39\n",
       "label        0\n",
       "dtype: int64"
      ]
     },
     "execution_count": 10,
     "metadata": {},
     "output_type": "execute_result"
    }
   ],
   "source": [
    "train.isnull().sum() # checking the missing values"
   ]
  },
  {
   "cell_type": "code",
   "execution_count": 11,
   "id": "6c579bcd",
   "metadata": {
    "execution": {
     "iopub.execute_input": "2024-01-24T18:52:55.879063Z",
     "iopub.status.busy": "2024-01-24T18:52:55.878720Z",
     "iopub.status.idle": "2024-01-24T18:52:55.887417Z",
     "shell.execute_reply": "2024-01-24T18:52:55.886583Z"
    },
    "papermill": {
     "duration": 0.021386,
     "end_time": "2024-01-24T18:52:55.889241",
     "exception": false,
     "start_time": "2024-01-24T18:52:55.867855",
     "status": "completed"
    },
    "tags": []
   },
   "outputs": [
    {
     "data": {
      "text/plain": [
       "id          0\n",
       "title     122\n",
       "author    503\n",
       "text        7\n",
       "dtype: int64"
      ]
     },
     "execution_count": 11,
     "metadata": {},
     "output_type": "execute_result"
    }
   ],
   "source": [
    "test.isnull().sum()"
   ]
  },
  {
   "cell_type": "code",
   "execution_count": 12,
   "id": "2553b7b6",
   "metadata": {
    "execution": {
     "iopub.execute_input": "2024-01-24T18:52:55.910571Z",
     "iopub.status.busy": "2024-01-24T18:52:55.910237Z",
     "iopub.status.idle": "2024-01-24T18:52:55.924997Z",
     "shell.execute_reply": "2024-01-24T18:52:55.923824Z"
    },
    "papermill": {
     "duration": 0.027387,
     "end_time": "2024-01-24T18:52:55.926791",
     "exception": false,
     "start_time": "2024-01-24T18:52:55.899404",
     "status": "completed"
    },
    "tags": []
   },
   "outputs": [],
   "source": [
    "train = train.fillna('') #replacing null values with empty string\n",
    "test = test.fillna('')"
   ]
  },
  {
   "cell_type": "code",
   "execution_count": 13,
   "id": "c84133d4",
   "metadata": {
    "execution": {
     "iopub.execute_input": "2024-01-24T18:52:55.947950Z",
     "iopub.status.busy": "2024-01-24T18:52:55.947580Z",
     "iopub.status.idle": "2024-01-24T18:52:55.960394Z",
     "shell.execute_reply": "2024-01-24T18:52:55.959483Z"
    },
    "papermill": {
     "duration": 0.025332,
     "end_time": "2024-01-24T18:52:55.962110",
     "exception": false,
     "start_time": "2024-01-24T18:52:55.936778",
     "status": "completed"
    },
    "tags": []
   },
   "outputs": [
    {
     "data": {
      "text/plain": [
       "id        0\n",
       "title     0\n",
       "author    0\n",
       "text      0\n",
       "label     0\n",
       "dtype: int64"
      ]
     },
     "execution_count": 13,
     "metadata": {},
     "output_type": "execute_result"
    }
   ],
   "source": [
    "train.isnull().sum() # no null values"
   ]
  },
  {
   "cell_type": "code",
   "execution_count": 14,
   "id": "78ab2631",
   "metadata": {
    "execution": {
     "iopub.execute_input": "2024-01-24T18:52:55.982625Z",
     "iopub.status.busy": "2024-01-24T18:52:55.982304Z",
     "iopub.status.idle": "2024-01-24T18:52:55.990781Z",
     "shell.execute_reply": "2024-01-24T18:52:55.989913Z"
    },
    "papermill": {
     "duration": 0.020462,
     "end_time": "2024-01-24T18:52:55.992401",
     "exception": false,
     "start_time": "2024-01-24T18:52:55.971939",
     "status": "completed"
    },
    "tags": []
   },
   "outputs": [
    {
     "data": {
      "text/plain": [
       "id        0\n",
       "title     0\n",
       "author    0\n",
       "text      0\n",
       "dtype: int64"
      ]
     },
     "execution_count": 14,
     "metadata": {},
     "output_type": "execute_result"
    }
   ],
   "source": [
    "test.isnull().sum()"
   ]
  },
  {
   "cell_type": "markdown",
   "id": "f0831608",
   "metadata": {
    "papermill": {
     "duration": 0.009608,
     "end_time": "2024-01-24T18:52:56.011921",
     "exception": false,
     "start_time": "2024-01-24T18:52:56.002313",
     "status": "completed"
    },
    "tags": []
   },
   "source": [
    "Merging (author) and (title) into new column and storing it in X : "
   ]
  },
  {
   "cell_type": "code",
   "execution_count": 15,
   "id": "725760e2",
   "metadata": {
    "execution": {
     "iopub.execute_input": "2024-01-24T18:52:56.032971Z",
     "iopub.status.busy": "2024-01-24T18:52:56.032638Z",
     "iopub.status.idle": "2024-01-24T18:52:56.044308Z",
     "shell.execute_reply": "2024-01-24T18:52:56.043479Z"
    },
    "papermill": {
     "duration": 0.024158,
     "end_time": "2024-01-24T18:52:56.045944",
     "exception": false,
     "start_time": "2024-01-24T18:52:56.021786",
     "status": "completed"
    },
    "tags": []
   },
   "outputs": [],
   "source": [
    "X_train = train['author'] + ' ' + train['title']\n",
    "X_test = test['author'] + ' ' + test['title']"
   ]
  },
  {
   "cell_type": "code",
   "execution_count": 16,
   "id": "99d1af53",
   "metadata": {
    "execution": {
     "iopub.execute_input": "2024-01-24T18:52:56.066882Z",
     "iopub.status.busy": "2024-01-24T18:52:56.066482Z",
     "iopub.status.idle": "2024-01-24T18:52:56.073317Z",
     "shell.execute_reply": "2024-01-24T18:52:56.072664Z"
    },
    "papermill": {
     "duration": 0.019161,
     "end_time": "2024-01-24T18:52:56.074880",
     "exception": false,
     "start_time": "2024-01-24T18:52:56.055719",
     "status": "completed"
    },
    "scrolled": true,
    "tags": []
   },
   "outputs": [
    {
     "data": {
      "text/plain": [
       "0    Darrell Lucus House Dem Aide: We Didn’t Even S...\n",
       "1    Daniel J. Flynn FLYNN: Hillary Clinton, Big Wo...\n",
       "2    Consortiumnews.com Why the Truth Might Get You...\n",
       "3    Jessica Purkiss 15 Civilians Killed In Single ...\n",
       "4    Howard Portnoy Iranian woman jailed for fictio...\n",
       "dtype: object"
      ]
     },
     "execution_count": 16,
     "metadata": {},
     "output_type": "execute_result"
    }
   ],
   "source": [
    "X_train.head()"
   ]
  },
  {
   "cell_type": "code",
   "execution_count": 17,
   "id": "abd27499",
   "metadata": {
    "execution": {
     "iopub.execute_input": "2024-01-24T18:52:56.097277Z",
     "iopub.status.busy": "2024-01-24T18:52:56.096947Z",
     "iopub.status.idle": "2024-01-24T18:52:56.102710Z",
     "shell.execute_reply": "2024-01-24T18:52:56.101891Z"
    },
    "papermill": {
     "duration": 0.01839,
     "end_time": "2024-01-24T18:52:56.104188",
     "exception": false,
     "start_time": "2024-01-24T18:52:56.085798",
     "status": "completed"
    },
    "tags": []
   },
   "outputs": [
    {
     "data": {
      "text/plain": [
       "0    David Streitfeld Specter of Trump Loosens Tong...\n",
       "1     Russian warships ready to strike terrorists n...\n",
       "2    Common Dreams #NoDAPL: Native American Leaders...\n",
       "3    Daniel Victor Tim Tebow Will Attempt Another C...\n",
       "4    Truth Broadcast Network Keiser Report: Meme Wa...\n",
       "dtype: object"
      ]
     },
     "execution_count": 17,
     "metadata": {},
     "output_type": "execute_result"
    }
   ],
   "source": [
    "X_test.head()"
   ]
  },
  {
   "cell_type": "markdown",
   "id": "21d2f537",
   "metadata": {
    "papermill": {
     "duration": 0.00987,
     "end_time": "2024-01-24T18:52:56.124098",
     "exception": false,
     "start_time": "2024-01-24T18:52:56.114228",
     "status": "completed"
    },
    "tags": []
   },
   "source": [
    "Seperating label column from data set"
   ]
  },
  {
   "cell_type": "code",
   "execution_count": 18,
   "id": "e4d2e9ae",
   "metadata": {
    "execution": {
     "iopub.execute_input": "2024-01-24T18:52:56.145875Z",
     "iopub.status.busy": "2024-01-24T18:52:56.145370Z",
     "iopub.status.idle": "2024-01-24T18:52:56.149510Z",
     "shell.execute_reply": "2024-01-24T18:52:56.148662Z"
    },
    "papermill": {
     "duration": 0.017454,
     "end_time": "2024-01-24T18:52:56.151450",
     "exception": false,
     "start_time": "2024-01-24T18:52:56.133996",
     "status": "completed"
    },
    "tags": []
   },
   "outputs": [],
   "source": [
    "Y_train = train['label'] # storing label in Y"
   ]
  },
  {
   "cell_type": "code",
   "execution_count": 19,
   "id": "7e6ff598",
   "metadata": {
    "execution": {
     "iopub.execute_input": "2024-01-24T18:52:56.173361Z",
     "iopub.status.busy": "2024-01-24T18:52:56.173047Z",
     "iopub.status.idle": "2024-01-24T18:52:56.178765Z",
     "shell.execute_reply": "2024-01-24T18:52:56.177991Z"
    },
    "papermill": {
     "duration": 0.018559,
     "end_time": "2024-01-24T18:52:56.180240",
     "exception": false,
     "start_time": "2024-01-24T18:52:56.161681",
     "status": "completed"
    },
    "tags": []
   },
   "outputs": [
    {
     "data": {
      "text/plain": [
       "0    1\n",
       "1    0\n",
       "2    1\n",
       "3    1\n",
       "4    1\n",
       "Name: label, dtype: int64"
      ]
     },
     "execution_count": 19,
     "metadata": {},
     "output_type": "execute_result"
    }
   ],
   "source": [
    "Y_train.head()"
   ]
  },
  {
   "cell_type": "markdown",
   "id": "5f4d7f31",
   "metadata": {
    "papermill": {
     "duration": 0.01146,
     "end_time": "2024-01-24T18:52:56.202323",
     "exception": false,
     "start_time": "2024-01-24T18:52:56.190863",
     "status": "completed"
    },
    "tags": []
   },
   "source": [
    "## Stemming"
   ]
  },
  {
   "cell_type": "markdown",
   "id": "c1b05993",
   "metadata": {
    "papermill": {
     "duration": 0.011235,
     "end_time": "2024-01-24T18:52:56.223643",
     "exception": false,
     "start_time": "2024-01-24T18:52:56.212408",
     "status": "completed"
    },
    "tags": []
   },
   "source": [
    "Reducing words (prefix & suffix) to its root word"
   ]
  },
  {
   "cell_type": "code",
   "execution_count": 20,
   "id": "f56a1aba",
   "metadata": {
    "execution": {
     "iopub.execute_input": "2024-01-24T18:52:56.246222Z",
     "iopub.status.busy": "2024-01-24T18:52:56.245896Z",
     "iopub.status.idle": "2024-01-24T18:52:56.249588Z",
     "shell.execute_reply": "2024-01-24T18:52:56.248854Z"
    },
    "papermill": {
     "duration": 0.016785,
     "end_time": "2024-01-24T18:52:56.251227",
     "exception": false,
     "start_time": "2024-01-24T18:52:56.234442",
     "status": "completed"
    },
    "tags": []
   },
   "outputs": [],
   "source": [
    "port_stem = PorterStemmer() # creating instance"
   ]
  },
  {
   "cell_type": "code",
   "execution_count": 21,
   "id": "6d1a18f9",
   "metadata": {
    "execution": {
     "iopub.execute_input": "2024-01-24T18:52:56.273351Z",
     "iopub.status.busy": "2024-01-24T18:52:56.273105Z",
     "iopub.status.idle": "2024-01-24T18:52:56.277677Z",
     "shell.execute_reply": "2024-01-24T18:52:56.276956Z"
    },
    "papermill": {
     "duration": 0.017707,
     "end_time": "2024-01-24T18:52:56.279695",
     "exception": false,
     "start_time": "2024-01-24T18:52:56.261988",
     "status": "completed"
    },
    "tags": []
   },
   "outputs": [],
   "source": [
    "def stemming(content):\n",
    "    stemmed_content = re.sub('[^a-zA-Z]',' ',content) # replace anything other than a_z with ' '\n",
    "    stemmed_content = stemmed_content.lower() # convert to lower case \n",
    "    stemmed_content = stemmed_content.split() # split all the words to list\n",
    "    stemmed_content = [port_stem.stem(word) for word in stemmed_content if not word in stopwords.words('english')] # stemming + removing stopwords\n",
    "    stemmed_content = ' '.join(stemmed_content) # again joining all words with ' '\n",
    "    return stemmed_content"
   ]
  },
  {
   "cell_type": "markdown",
   "id": "05840e15",
   "metadata": {
    "papermill": {
     "duration": 0.010025,
     "end_time": "2024-01-24T18:52:56.300741",
     "exception": false,
     "start_time": "2024-01-24T18:52:56.290716",
     "status": "completed"
    },
    "tags": []
   },
   "source": [
    "Applying stemming on X"
   ]
  },
  {
   "cell_type": "code",
   "execution_count": 22,
   "id": "3a8b425c",
   "metadata": {
    "execution": {
     "iopub.execute_input": "2024-01-24T18:52:56.322594Z",
     "iopub.status.busy": "2024-01-24T18:52:56.322092Z",
     "iopub.status.idle": "2024-01-24T18:53:39.960178Z",
     "shell.execute_reply": "2024-01-24T18:53:39.959347Z"
    },
    "papermill": {
     "duration": 43.651575,
     "end_time": "2024-01-24T18:53:39.962452",
     "exception": false,
     "start_time": "2024-01-24T18:52:56.310877",
     "status": "completed"
    },
    "tags": []
   },
   "outputs": [],
   "source": [
    "X_train = X_train.apply(stemming)\n",
    "X_test = X_test.apply(stemming)"
   ]
  },
  {
   "cell_type": "code",
   "execution_count": 23,
   "id": "1b650a58",
   "metadata": {
    "execution": {
     "iopub.execute_input": "2024-01-24T18:53:39.984833Z",
     "iopub.status.busy": "2024-01-24T18:53:39.984462Z",
     "iopub.status.idle": "2024-01-24T18:53:39.991907Z",
     "shell.execute_reply": "2024-01-24T18:53:39.990924Z"
    },
    "papermill": {
     "duration": 0.020555,
     "end_time": "2024-01-24T18:53:39.993874",
     "exception": false,
     "start_time": "2024-01-24T18:53:39.973319",
     "status": "completed"
    },
    "tags": []
   },
   "outputs": [
    {
     "data": {
      "text/plain": [
       "0    darrel lucu hous dem aid even see comey letter...\n",
       "1    daniel j flynn flynn hillari clinton big woman...\n",
       "2               consortiumnew com truth might get fire\n",
       "3    jessica purkiss civilian kill singl us airstri...\n",
       "4    howard portnoy iranian woman jail fiction unpu...\n",
       "dtype: object"
      ]
     },
     "execution_count": 23,
     "metadata": {},
     "output_type": "execute_result"
    }
   ],
   "source": [
    "X_train.head()"
   ]
  },
  {
   "cell_type": "code",
   "execution_count": 24,
   "id": "51f5fc2d",
   "metadata": {
    "execution": {
     "iopub.execute_input": "2024-01-24T18:53:40.016560Z",
     "iopub.status.busy": "2024-01-24T18:53:40.015999Z",
     "iopub.status.idle": "2024-01-24T18:53:40.022971Z",
     "shell.execute_reply": "2024-01-24T18:53:40.022022Z"
    },
    "papermill": {
     "duration": 0.020151,
     "end_time": "2024-01-24T18:53:40.024551",
     "exception": false,
     "start_time": "2024-01-24T18:53:40.004400",
     "status": "completed"
    },
    "tags": []
   },
   "outputs": [
    {
     "data": {
      "text/plain": [
       "0    david streitfeld specter trump loosen tongu pu...\n",
       "1    russian warship readi strike terrorist near al...\n",
       "2    common dream nodapl nativ american leader vow ...\n",
       "3    daniel victor tim tebow attempt anoth comeback...\n",
       "4     truth broadcast network keiser report meme war e\n",
       "dtype: object"
      ]
     },
     "execution_count": 24,
     "metadata": {},
     "output_type": "execute_result"
    }
   ],
   "source": [
    "X_test.head()"
   ]
  },
  {
   "cell_type": "markdown",
   "id": "6d0fc7b2",
   "metadata": {
    "papermill": {
     "duration": 0.009997,
     "end_time": "2024-01-24T18:53:40.044930",
     "exception": false,
     "start_time": "2024-01-24T18:53:40.034933",
     "status": "completed"
    },
    "tags": []
   },
   "source": [
    "separating the data and label (into array format)"
   ]
  },
  {
   "cell_type": "code",
   "execution_count": 25,
   "id": "508277dd",
   "metadata": {
    "execution": {
     "iopub.execute_input": "2024-01-24T18:53:40.069290Z",
     "iopub.status.busy": "2024-01-24T18:53:40.068245Z",
     "iopub.status.idle": "2024-01-24T18:53:40.073685Z",
     "shell.execute_reply": "2024-01-24T18:53:40.072637Z"
    },
    "papermill": {
     "duration": 0.020628,
     "end_time": "2024-01-24T18:53:40.075831",
     "exception": false,
     "start_time": "2024-01-24T18:53:40.055203",
     "status": "completed"
    },
    "tags": []
   },
   "outputs": [],
   "source": [
    "X_train = X_train.values # Data Array\n",
    "Y_train = Y_train.values # Label\n",
    "X_test = X_test.values"
   ]
  },
  {
   "cell_type": "code",
   "execution_count": 26,
   "id": "67850274",
   "metadata": {
    "execution": {
     "iopub.execute_input": "2024-01-24T18:53:40.099489Z",
     "iopub.status.busy": "2024-01-24T18:53:40.098879Z",
     "iopub.status.idle": "2024-01-24T18:53:40.103487Z",
     "shell.execute_reply": "2024-01-24T18:53:40.102485Z"
    },
    "papermill": {
     "duration": 0.018484,
     "end_time": "2024-01-24T18:53:40.105391",
     "exception": false,
     "start_time": "2024-01-24T18:53:40.086907",
     "status": "completed"
    },
    "tags": []
   },
   "outputs": [
    {
     "name": "stdout",
     "output_type": "stream",
     "text": [
      "['darrel lucu hous dem aid even see comey letter jason chaffetz tweet'\n",
      " 'daniel j flynn flynn hillari clinton big woman campu breitbart'\n",
      " 'consortiumnew com truth might get fire' ...\n",
      " 'michael j de la merc rachel abram maci said receiv takeov approach hudson bay new york time'\n",
      " 'alex ansari nato russia hold parallel exercis balkan'\n",
      " 'david swanson keep f aliv']\n"
     ]
    }
   ],
   "source": [
    "print(X_train)"
   ]
  },
  {
   "cell_type": "code",
   "execution_count": 27,
   "id": "3d8f08de",
   "metadata": {
    "execution": {
     "iopub.execute_input": "2024-01-24T18:53:40.127621Z",
     "iopub.status.busy": "2024-01-24T18:53:40.127277Z",
     "iopub.status.idle": "2024-01-24T18:53:40.132671Z",
     "shell.execute_reply": "2024-01-24T18:53:40.131078Z"
    },
    "papermill": {
     "duration": 0.018515,
     "end_time": "2024-01-24T18:53:40.134451",
     "exception": false,
     "start_time": "2024-01-24T18:53:40.115936",
     "status": "completed"
    },
    "tags": []
   },
   "outputs": [
    {
     "name": "stdout",
     "output_type": "stream",
     "text": [
      "['david streitfeld specter trump loosen tongu purs string silicon valley new york time'\n",
      " 'russian warship readi strike terrorist near aleppo'\n",
      " 'common dream nodapl nativ american leader vow stay winter file lawsuit polic'\n",
      " ... 'mike mcphate california today exactli sushi new york time'\n",
      " 'us marin deploy russian border norway'\n",
      " 'teddi wayn awkward sex onscreen new york time']\n"
     ]
    }
   ],
   "source": [
    "print(X_test)"
   ]
  },
  {
   "cell_type": "code",
   "execution_count": 28,
   "id": "2e850470",
   "metadata": {
    "execution": {
     "iopub.execute_input": "2024-01-24T18:53:40.156918Z",
     "iopub.status.busy": "2024-01-24T18:53:40.156579Z",
     "iopub.status.idle": "2024-01-24T18:53:40.161786Z",
     "shell.execute_reply": "2024-01-24T18:53:40.160707Z"
    },
    "papermill": {
     "duration": 0.019007,
     "end_time": "2024-01-24T18:53:40.163908",
     "exception": false,
     "start_time": "2024-01-24T18:53:40.144901",
     "status": "completed"
    },
    "tags": []
   },
   "outputs": [
    {
     "name": "stdout",
     "output_type": "stream",
     "text": [
      "[1 0 1 ... 0 1 1]\n"
     ]
    }
   ],
   "source": [
    "print(Y_train)"
   ]
  },
  {
   "cell_type": "code",
   "execution_count": 29,
   "id": "8ce59b5e",
   "metadata": {
    "execution": {
     "iopub.execute_input": "2024-01-24T18:53:40.188280Z",
     "iopub.status.busy": "2024-01-24T18:53:40.187933Z",
     "iopub.status.idle": "2024-01-24T18:53:40.194164Z",
     "shell.execute_reply": "2024-01-24T18:53:40.193086Z"
    },
    "papermill": {
     "duration": 0.020249,
     "end_time": "2024-01-24T18:53:40.195980",
     "exception": false,
     "start_time": "2024-01-24T18:53:40.175731",
     "status": "completed"
    },
    "tags": []
   },
   "outputs": [
    {
     "data": {
      "text/plain": [
       "(20800,)"
      ]
     },
     "execution_count": 29,
     "metadata": {},
     "output_type": "execute_result"
    }
   ],
   "source": [
    "X_train.shape"
   ]
  },
  {
   "cell_type": "code",
   "execution_count": 30,
   "id": "b6fd56a1",
   "metadata": {
    "execution": {
     "iopub.execute_input": "2024-01-24T18:53:40.219158Z",
     "iopub.status.busy": "2024-01-24T18:53:40.218821Z",
     "iopub.status.idle": "2024-01-24T18:53:40.224513Z",
     "shell.execute_reply": "2024-01-24T18:53:40.223853Z"
    },
    "papermill": {
     "duration": 0.019035,
     "end_time": "2024-01-24T18:53:40.226211",
     "exception": false,
     "start_time": "2024-01-24T18:53:40.207176",
     "status": "completed"
    },
    "tags": []
   },
   "outputs": [
    {
     "data": {
      "text/plain": [
       "(5200,)"
      ]
     },
     "execution_count": 30,
     "metadata": {},
     "output_type": "execute_result"
    }
   ],
   "source": [
    "X_test.shape"
   ]
  },
  {
   "cell_type": "code",
   "execution_count": 31,
   "id": "e05ee2a1",
   "metadata": {
    "execution": {
     "iopub.execute_input": "2024-01-24T18:53:40.250275Z",
     "iopub.status.busy": "2024-01-24T18:53:40.249946Z",
     "iopub.status.idle": "2024-01-24T18:53:40.254491Z",
     "shell.execute_reply": "2024-01-24T18:53:40.253872Z"
    },
    "papermill": {
     "duration": 0.018385,
     "end_time": "2024-01-24T18:53:40.255938",
     "exception": false,
     "start_time": "2024-01-24T18:53:40.237553",
     "status": "completed"
    },
    "tags": []
   },
   "outputs": [
    {
     "data": {
      "text/plain": [
       "(20800,)"
      ]
     },
     "execution_count": 31,
     "metadata": {},
     "output_type": "execute_result"
    }
   ],
   "source": [
    "Y_train.shape"
   ]
  },
  {
   "cell_type": "markdown",
   "id": "12bee417",
   "metadata": {
    "papermill": {
     "duration": 0.010518,
     "end_time": "2024-01-24T18:53:40.277868",
     "exception": false,
     "start_time": "2024-01-24T18:53:40.267350",
     "status": "completed"
    },
    "tags": []
   },
   "source": [
    "## Vectorizing (Textual data to numerical data)"
   ]
  },
  {
   "cell_type": "code",
   "execution_count": 32,
   "id": "8b683f0e",
   "metadata": {
    "execution": {
     "iopub.execute_input": "2024-01-24T18:53:40.303483Z",
     "iopub.status.busy": "2024-01-24T18:53:40.303134Z",
     "iopub.status.idle": "2024-01-24T18:53:40.781828Z",
     "shell.execute_reply": "2024-01-24T18:53:40.780977Z"
    },
    "papermill": {
     "duration": 0.494773,
     "end_time": "2024-01-24T18:53:40.784942",
     "exception": false,
     "start_time": "2024-01-24T18:53:40.290169",
     "status": "completed"
    },
    "tags": []
   },
   "outputs": [],
   "source": [
    "vectorizer = TfidfVectorizer()\n",
    "vectorizer.fit(X_train) # converting into feature vector\n",
    "\n",
    "X_train = vectorizer.transform(X_train)\n",
    "X_test = vectorizer.transform(X_test)"
   ]
  },
  {
   "cell_type": "code",
   "execution_count": 33,
   "id": "0e2f2826",
   "metadata": {
    "execution": {
     "iopub.execute_input": "2024-01-24T18:53:40.808870Z",
     "iopub.status.busy": "2024-01-24T18:53:40.808444Z",
     "iopub.status.idle": "2024-01-24T18:53:40.816981Z",
     "shell.execute_reply": "2024-01-24T18:53:40.815329Z"
    },
    "papermill": {
     "duration": 0.022551,
     "end_time": "2024-01-24T18:53:40.818912",
     "exception": false,
     "start_time": "2024-01-24T18:53:40.796361",
     "status": "completed"
    },
    "tags": []
   },
   "outputs": [
    {
     "name": "stdout",
     "output_type": "stream",
     "text": [
      "  (0, 15686)\t0.28485063562728646\n",
      "  (0, 13473)\t0.2565896679337957\n",
      "  (0, 8909)\t0.3635963806326075\n",
      "  (0, 8630)\t0.29212514087043684\n",
      "  (0, 7692)\t0.24785219520671603\n",
      "  (0, 7005)\t0.21874169089359144\n",
      "  (0, 4973)\t0.233316966909351\n",
      "  (0, 3792)\t0.2705332480845492\n",
      "  (0, 3600)\t0.3598939188262559\n",
      "  (0, 2959)\t0.2468450128533713\n",
      "  (0, 2483)\t0.3676519686797209\n",
      "  (0, 267)\t0.27010124977708766\n",
      "  (1, 16799)\t0.30071745655510157\n",
      "  (1, 6816)\t0.1904660198296849\n",
      "  (1, 5503)\t0.7143299355715573\n",
      "  (1, 3568)\t0.26373768806048464\n",
      "  (1, 2813)\t0.19094574062359204\n",
      "  (1, 2223)\t0.3827320386859759\n",
      "  (1, 1894)\t0.15521974226349364\n",
      "  (1, 1497)\t0.2939891562094648\n",
      "  (2, 15611)\t0.41544962664721613\n",
      "  (2, 9620)\t0.49351492943649944\n",
      "  (2, 5968)\t0.3474613386728292\n",
      "  (2, 5389)\t0.3866530551182615\n",
      "  (2, 3103)\t0.46097489583229645\n",
      "  :\t:\n",
      "  (20797, 13122)\t0.2482526352197606\n",
      "  (20797, 12344)\t0.27263457663336677\n",
      "  (20797, 12138)\t0.24778257724396507\n",
      "  (20797, 10306)\t0.08038079000566466\n",
      "  (20797, 9588)\t0.174553480255222\n",
      "  (20797, 9518)\t0.2954204003420313\n",
      "  (20797, 8988)\t0.36160868928090795\n",
      "  (20797, 8364)\t0.22322585870464118\n",
      "  (20797, 7042)\t0.21799048897828688\n",
      "  (20797, 3643)\t0.21155500613623743\n",
      "  (20797, 1287)\t0.33538056804139865\n",
      "  (20797, 699)\t0.30685846079762347\n",
      "  (20797, 43)\t0.29710241860700626\n",
      "  (20798, 13046)\t0.22363267488270608\n",
      "  (20798, 11052)\t0.4460515589182236\n",
      "  (20798, 10177)\t0.3192496370187028\n",
      "  (20798, 6889)\t0.32496285694299426\n",
      "  (20798, 5032)\t0.4083701450239529\n",
      "  (20798, 1125)\t0.4460515589182236\n",
      "  (20798, 588)\t0.3112141524638974\n",
      "  (20798, 350)\t0.28446937819072576\n",
      "  (20799, 14852)\t0.5677577267055112\n",
      "  (20799, 8036)\t0.45983893273780013\n",
      "  (20799, 3623)\t0.37927626273066584\n",
      "  (20799, 377)\t0.5677577267055112\n"
     ]
    }
   ],
   "source": [
    "print(X_train)"
   ]
  },
  {
   "cell_type": "code",
   "execution_count": 34,
   "id": "1243d919",
   "metadata": {
    "execution": {
     "iopub.execute_input": "2024-01-24T18:53:40.842921Z",
     "iopub.status.busy": "2024-01-24T18:53:40.842614Z",
     "iopub.status.idle": "2024-01-24T18:53:40.848829Z",
     "shell.execute_reply": "2024-01-24T18:53:40.847419Z"
    },
    "papermill": {
     "duration": 0.020062,
     "end_time": "2024-01-24T18:53:40.850679",
     "exception": false,
     "start_time": "2024-01-24T18:53:40.830617",
     "status": "completed"
    },
    "tags": []
   },
   "outputs": [
    {
     "name": "stdout",
     "output_type": "stream",
     "text": [
      "  (0, 16996)\t0.08864595251126647\n",
      "  (0, 16088)\t0.3205594987716609\n",
      "  (0, 15582)\t0.11032513315099028\n",
      "  (0, 15368)\t0.38547947461491155\n",
      "  (0, 15295)\t0.08697876504498342\n",
      "  (0, 14605)\t0.3970837204511862\n",
      "  (0, 14591)\t0.34467447913058513\n",
      "  (0, 13850)\t0.32956045112215354\n",
      "  (0, 12030)\t0.38547947461491155\n",
      "  (0, 10306)\t0.08568694729690247\n",
      "  (0, 8842)\t0.36912420870480717\n",
      "  (0, 3623)\t0.209228842739656\n",
      "  (1, 16473)\t0.4921981982038152\n",
      "  (1, 15142)\t0.3550835494981517\n",
      "  (1, 14603)\t0.35559908473568963\n",
      "  (1, 13048)\t0.3052969733971102\n",
      "  (1, 12300)\t0.3838422559012773\n",
      "  (1, 10219)\t0.37818137822242154\n",
      "  (1, 347)\t0.3487744590431239\n",
      "  (2, 16746)\t0.3016628915147435\n",
      "  (2, 16354)\t0.2909537422615255\n",
      "  (2, 14457)\t0.30637021801826614\n",
      "  (2, 11598)\t0.21447077225895875\n",
      "  (2, 10419)\t0.35982822390508096\n",
      "  (2, 10176)\t0.3194727535249622\n",
      "  :\t:\n",
      "  (5196, 5884)\t0.2500401085058591\n",
      "  (5196, 1517)\t0.19940396943572683\n",
      "  (5196, 41)\t0.2656503884474958\n",
      "  (5197, 16996)\t0.11797520134546996\n",
      "  (5197, 15336)\t0.33413616793311524\n",
      "  (5197, 15295)\t0.11575641107424592\n",
      "  (5197, 14827)\t0.5502287050707828\n",
      "  (5197, 10306)\t0.1140371847067236\n",
      "  (5197, 9628)\t0.2914620299435\n",
      "  (5197, 9405)\t0.3763670657730048\n",
      "  (5197, 5005)\t0.4638294166150902\n",
      "  (5197, 2184)\t0.3217750895378809\n",
      "  (5198, 16036)\t0.2897750750203496\n",
      "  (5198, 13048)\t0.3239229606712843\n",
      "  (5198, 10465)\t0.5285950904428587\n",
      "  (5198, 9196)\t0.45384301471017496\n",
      "  (5198, 3857)\t0.45192406838310434\n",
      "  (5198, 1766)\t0.3485436934179841\n",
      "  (5199, 16996)\t0.11981057095223657\n",
      "  (5199, 16501)\t0.5088343621556953\n",
      "  (5199, 15295)\t0.11755726240784027\n",
      "  (5199, 13600)\t0.34031674142822577\n",
      "  (5199, 10713)\t0.5587887501526321\n",
      "  (5199, 10306)\t0.11581128960728698\n",
      "  (5199, 1016)\t0.5209997144326574\n"
     ]
    }
   ],
   "source": [
    "print(X_test)"
   ]
  },
  {
   "cell_type": "code",
   "execution_count": 35,
   "id": "8516cd9e",
   "metadata": {
    "execution": {
     "iopub.execute_input": "2024-01-24T18:53:40.875141Z",
     "iopub.status.busy": "2024-01-24T18:53:40.874594Z",
     "iopub.status.idle": "2024-01-24T18:53:40.878634Z",
     "shell.execute_reply": "2024-01-24T18:53:40.877861Z"
    },
    "papermill": {
     "duration": 0.017607,
     "end_time": "2024-01-24T18:53:40.880092",
     "exception": false,
     "start_time": "2024-01-24T18:53:40.862485",
     "status": "completed"
    },
    "tags": []
   },
   "outputs": [
    {
     "name": "stdout",
     "output_type": "stream",
     "text": [
      "(20800, 17128)\n",
      "(5200, 17128)\n"
     ]
    }
   ],
   "source": [
    "print(X_train.shape)\n",
    "print(X_test.shape)"
   ]
  },
  {
   "cell_type": "markdown",
   "id": "c24145ff",
   "metadata": {
    "papermill": {
     "duration": 0.010787,
     "end_time": "2024-01-24T18:53:40.902446",
     "exception": false,
     "start_time": "2024-01-24T18:53:40.891659",
     "status": "completed"
    },
    "tags": []
   },
   "source": [
    "# SVM (SUPPORT VECTOR MACHINE):"
   ]
  },
  {
   "cell_type": "code",
   "execution_count": 36,
   "id": "29ebc911",
   "metadata": {
    "execution": {
     "iopub.execute_input": "2024-01-24T18:53:40.926088Z",
     "iopub.status.busy": "2024-01-24T18:53:40.925475Z",
     "iopub.status.idle": "2024-01-24T18:53:40.929103Z",
     "shell.execute_reply": "2024-01-24T18:53:40.928498Z"
    },
    "papermill": {
     "duration": 0.0172,
     "end_time": "2024-01-24T18:53:40.930598",
     "exception": false,
     "start_time": "2024-01-24T18:53:40.913398",
     "status": "completed"
    },
    "tags": []
   },
   "outputs": [],
   "source": [
    "classifier = SVC(kernel=\"linear\") # we need a linear decision boundary"
   ]
  },
  {
   "cell_type": "code",
   "execution_count": 37,
   "id": "543323ab",
   "metadata": {
    "execution": {
     "iopub.execute_input": "2024-01-24T18:53:40.954594Z",
     "iopub.status.busy": "2024-01-24T18:53:40.954019Z",
     "iopub.status.idle": "2024-01-24T18:53:59.839170Z",
     "shell.execute_reply": "2024-01-24T18:53:59.838325Z"
    },
    "papermill": {
     "duration": 18.89919,
     "end_time": "2024-01-24T18:53:59.840939",
     "exception": false,
     "start_time": "2024-01-24T18:53:40.941749",
     "status": "completed"
    },
    "tags": []
   },
   "outputs": [
    {
     "data": {
      "text/html": [
       "<style>#sk-container-id-1 {color: black;background-color: white;}#sk-container-id-1 pre{padding: 0;}#sk-container-id-1 div.sk-toggleable {background-color: white;}#sk-container-id-1 label.sk-toggleable__label {cursor: pointer;display: block;width: 100%;margin-bottom: 0;padding: 0.3em;box-sizing: border-box;text-align: center;}#sk-container-id-1 label.sk-toggleable__label-arrow:before {content: \"▸\";float: left;margin-right: 0.25em;color: #696969;}#sk-container-id-1 label.sk-toggleable__label-arrow:hover:before {color: black;}#sk-container-id-1 div.sk-estimator:hover label.sk-toggleable__label-arrow:before {color: black;}#sk-container-id-1 div.sk-toggleable__content {max-height: 0;max-width: 0;overflow: hidden;text-align: left;background-color: #f0f8ff;}#sk-container-id-1 div.sk-toggleable__content pre {margin: 0.2em;color: black;border-radius: 0.25em;background-color: #f0f8ff;}#sk-container-id-1 input.sk-toggleable__control:checked~div.sk-toggleable__content {max-height: 200px;max-width: 100%;overflow: auto;}#sk-container-id-1 input.sk-toggleable__control:checked~label.sk-toggleable__label-arrow:before {content: \"▾\";}#sk-container-id-1 div.sk-estimator input.sk-toggleable__control:checked~label.sk-toggleable__label {background-color: #d4ebff;}#sk-container-id-1 div.sk-label input.sk-toggleable__control:checked~label.sk-toggleable__label {background-color: #d4ebff;}#sk-container-id-1 input.sk-hidden--visually {border: 0;clip: rect(1px 1px 1px 1px);clip: rect(1px, 1px, 1px, 1px);height: 1px;margin: -1px;overflow: hidden;padding: 0;position: absolute;width: 1px;}#sk-container-id-1 div.sk-estimator {font-family: monospace;background-color: #f0f8ff;border: 1px dotted black;border-radius: 0.25em;box-sizing: border-box;margin-bottom: 0.5em;}#sk-container-id-1 div.sk-estimator:hover {background-color: #d4ebff;}#sk-container-id-1 div.sk-parallel-item::after {content: \"\";width: 100%;border-bottom: 1px solid gray;flex-grow: 1;}#sk-container-id-1 div.sk-label:hover label.sk-toggleable__label {background-color: #d4ebff;}#sk-container-id-1 div.sk-serial::before {content: \"\";position: absolute;border-left: 1px solid gray;box-sizing: border-box;top: 0;bottom: 0;left: 50%;z-index: 0;}#sk-container-id-1 div.sk-serial {display: flex;flex-direction: column;align-items: center;background-color: white;padding-right: 0.2em;padding-left: 0.2em;position: relative;}#sk-container-id-1 div.sk-item {position: relative;z-index: 1;}#sk-container-id-1 div.sk-parallel {display: flex;align-items: stretch;justify-content: center;background-color: white;position: relative;}#sk-container-id-1 div.sk-item::before, #sk-container-id-1 div.sk-parallel-item::before {content: \"\";position: absolute;border-left: 1px solid gray;box-sizing: border-box;top: 0;bottom: 0;left: 50%;z-index: -1;}#sk-container-id-1 div.sk-parallel-item {display: flex;flex-direction: column;z-index: 1;position: relative;background-color: white;}#sk-container-id-1 div.sk-parallel-item:first-child::after {align-self: flex-end;width: 50%;}#sk-container-id-1 div.sk-parallel-item:last-child::after {align-self: flex-start;width: 50%;}#sk-container-id-1 div.sk-parallel-item:only-child::after {width: 0;}#sk-container-id-1 div.sk-dashed-wrapped {border: 1px dashed gray;margin: 0 0.4em 0.5em 0.4em;box-sizing: border-box;padding-bottom: 0.4em;background-color: white;}#sk-container-id-1 div.sk-label label {font-family: monospace;font-weight: bold;display: inline-block;line-height: 1.2em;}#sk-container-id-1 div.sk-label-container {text-align: center;}#sk-container-id-1 div.sk-container {/* jupyter's `normalize.less` sets `[hidden] { display: none; }` but bootstrap.min.css set `[hidden] { display: none !important; }` so we also need the `!important` here to be able to override the default hidden behavior on the sphinx rendered scikit-learn.org. See: https://github.com/scikit-learn/scikit-learn/issues/21755 */display: inline-block !important;position: relative;}#sk-container-id-1 div.sk-text-repr-fallback {display: none;}</style><div id=\"sk-container-id-1\" class=\"sk-top-container\"><div class=\"sk-text-repr-fallback\"><pre>SVC(kernel=&#x27;linear&#x27;)</pre><b>In a Jupyter environment, please rerun this cell to show the HTML representation or trust the notebook. <br />On GitHub, the HTML representation is unable to render, please try loading this page with nbviewer.org.</b></div><div class=\"sk-container\" hidden><div class=\"sk-item\"><div class=\"sk-estimator sk-toggleable\"><input class=\"sk-toggleable__control sk-hidden--visually\" id=\"sk-estimator-id-1\" type=\"checkbox\" checked><label for=\"sk-estimator-id-1\" class=\"sk-toggleable__label sk-toggleable__label-arrow\">SVC</label><div class=\"sk-toggleable__content\"><pre>SVC(kernel=&#x27;linear&#x27;)</pre></div></div></div></div></div>"
      ],
      "text/plain": [
       "SVC(kernel='linear')"
      ]
     },
     "execution_count": 37,
     "metadata": {},
     "output_type": "execute_result"
    }
   ],
   "source": [
    "classifier.fit(X_train, Y_train)"
   ]
  },
  {
   "cell_type": "code",
   "execution_count": 38,
   "id": "ac9b95e1",
   "metadata": {
    "execution": {
     "iopub.execute_input": "2024-01-24T18:53:59.864820Z",
     "iopub.status.busy": "2024-01-24T18:53:59.864310Z",
     "iopub.status.idle": "2024-01-24T18:54:02.003971Z",
     "shell.execute_reply": "2024-01-24T18:54:02.003060Z"
    },
    "papermill": {
     "duration": 2.15383,
     "end_time": "2024-01-24T18:54:02.006170",
     "exception": false,
     "start_time": "2024-01-24T18:53:59.852340",
     "status": "completed"
    },
    "tags": []
   },
   "outputs": [],
   "source": [
    "X_predict = classifier.predict(X_test)"
   ]
  },
  {
   "cell_type": "code",
   "execution_count": 39,
   "id": "c2b13398",
   "metadata": {
    "execution": {
     "iopub.execute_input": "2024-01-24T18:54:02.031260Z",
     "iopub.status.busy": "2024-01-24T18:54:02.030889Z",
     "iopub.status.idle": "2024-01-24T18:54:02.036861Z",
     "shell.execute_reply": "2024-01-24T18:54:02.036049Z"
    },
    "papermill": {
     "duration": 0.022108,
     "end_time": "2024-01-24T18:54:02.040346",
     "exception": false,
     "start_time": "2024-01-24T18:54:02.018238",
     "status": "completed"
    },
    "tags": []
   },
   "outputs": [
    {
     "data": {
      "text/plain": [
       "array([0, 1, 1, ..., 0, 1, 0])"
      ]
     },
     "execution_count": 39,
     "metadata": {},
     "output_type": "execute_result"
    }
   ],
   "source": [
    "X_predict"
   ]
  },
  {
   "cell_type": "code",
   "execution_count": 40,
   "id": "9d974797",
   "metadata": {
    "execution": {
     "iopub.execute_input": "2024-01-24T18:54:02.066579Z",
     "iopub.status.busy": "2024-01-24T18:54:02.065968Z",
     "iopub.status.idle": "2024-01-24T18:54:02.078548Z",
     "shell.execute_reply": "2024-01-24T18:54:02.077761Z"
    },
    "papermill": {
     "duration": 0.028084,
     "end_time": "2024-01-24T18:54:02.080253",
     "exception": false,
     "start_time": "2024-01-24T18:54:02.052169",
     "status": "completed"
    },
    "tags": []
   },
   "outputs": [
    {
     "name": "stdout",
     "output_type": "stream",
     "text": [
      "Your submission was successfully saved!\n"
     ]
    }
   ],
   "source": [
    "output = pd.DataFrame({'id': test.id, 'label': X_predict})\n",
    "output.to_csv('submission.csv', index=False)\n",
    "print(\"Your submission was successfully saved!\")"
   ]
  },
  {
   "cell_type": "code",
   "execution_count": null,
   "id": "1fe182a1",
   "metadata": {
    "papermill": {
     "duration": 0.011337,
     "end_time": "2024-01-24T18:54:02.104310",
     "exception": false,
     "start_time": "2024-01-24T18:54:02.092973",
     "status": "completed"
    },
    "tags": []
   },
   "outputs": [],
   "source": []
  }
 ],
 "metadata": {
  "kaggle": {
   "accelerator": "none",
   "dataSources": [
    {
     "databundleVersionId": 109592,
     "sourceId": 8317,
     "sourceType": "competition"
    }
   ],
   "dockerImageVersionId": 30635,
   "isGpuEnabled": false,
   "isInternetEnabled": true,
   "language": "python",
   "sourceType": "notebook"
  },
  "kernelspec": {
   "display_name": "Python 3",
   "language": "python",
   "name": "python3"
  },
  "language_info": {
   "codemirror_mode": {
    "name": "ipython",
    "version": 3
   },
   "file_extension": ".py",
   "mimetype": "text/x-python",
   "name": "python",
   "nbconvert_exporter": "python",
   "pygments_lexer": "ipython3",
   "version": "3.10.12"
  },
  "papermill": {
   "default_parameters": {},
   "duration": 74.097994,
   "end_time": "2024-01-24T18:54:02.634035",
   "environment_variables": {},
   "exception": null,
   "input_path": "__notebook__.ipynb",
   "output_path": "__notebook__.ipynb",
   "parameters": {},
   "start_time": "2024-01-24T18:52:48.536041",
   "version": "2.4.0"
  }
 },
 "nbformat": 4,
 "nbformat_minor": 5
}
